{
 "cells": [
  {
   "cell_type": "code",
   "execution_count": null,
   "metadata": {},
   "outputs": [],
   "source": [
    "import urllib.request\n",
    "from bs4 import BeautifulSoup"
   ]
  },
  {
   "cell_type": "code",
   "execution_count": null,
   "metadata": {},
   "outputs": [],
   "source": [
    "baseUrl = \"https://www.berlin-airport.de/en/press/background-information/traffic-statistics/index.php\""
   ]
  },
  {
   "cell_type": "code",
   "execution_count": null,
   "metadata": {},
   "outputs": [],
   "source": [
    "# define function to return the number of passenger\n",
    "def getData(thedate):\n",
    "\n",
    "    myURL =  baseUrl + thedate\n",
    "\n",
    "    page = urllib.request.urlopen(myURL)\n",
    "    soup = BeautifulSoup(page, 'html.parser')\n",
    "    \n",
    "    \n",
    "    myURL =  baseUrl + thedate\n",
    "\n",
    "    page = urllib.request.urlopen(myURL)\n",
    "    soup = BeautifulSoup(page, 'html.parser')\n",
    "\n",
    "    all_tables=soup.find_all('table')\n",
    "\n",
    "    right_table = all_tables[0]\n",
    "\n",
    "    i = 0\n",
    "    for row in soup.findAll(\"<th>\"):\n",
    "        i = i + 1\n",
    "        if i == 3:\n",
    "            psg = row.find(text=True).replace(\".\",\"\")\n",
    "    return psg"
   ]
  },
  {
   "cell_type": "code",
   "execution_count": null,
   "metadata": {},
   "outputs": [],
   "source": [
    "months = [\"01\",\"02\",\"03\",\"04\",\"05\",\"06\",\"07\",\"08\",\"09\",\"10\",\"11\",\"12\"]\n",
    "\n",
    "# header \n",
    "print(\"month, passengers\")\n",
    "\n",
    "# loop over years and months\n",
    "for year in range(2002,2021):\n",
    "    for m in months:\n",
    "        thedate = str(year)+m\n",
    "        \n",
    "        # gets passengers for year and month\n",
    "        psg = getData(thedate)\n",
    "        # psg is the number of passengers for thedate\n",
    "        \n",
    "        print('\"' + str(year) + '-' + m + '\"' + ',' + psg)"
   ]
  }
 ],
 "metadata": {
  "kernelspec": {
   "display_name": "Python 3",
   "language": "python",
   "name": "python3"
  },
  "language_info": {
   "codemirror_mode": {
    "name": "ipython",
    "version": 3
   },
   "file_extension": ".py",
   "mimetype": "text/x-python",
   "name": "python",
   "nbconvert_exporter": "python",
   "pygments_lexer": "ipython3",
   "version": "3.8.5"
  }
 },
 "nbformat": 4,
 "nbformat_minor": 4
}
